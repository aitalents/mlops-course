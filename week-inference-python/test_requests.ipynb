{
 "cells": [
  {
   "cell_type": "code",
   "execution_count": 22,
   "id": "2b25bdaa",
   "metadata": {},
   "outputs": [],
   "source": [
    "import uuid\n",
    "import json\n",
    "\n",
    "import requests\n",
    "from time import time"
   ]
  },
  {
   "cell_type": "code",
   "execution_count": 23,
   "id": "76a86bdc",
   "metadata": {},
   "outputs": [
    {
     "name": "stdout",
     "output_type": "stream",
     "text": [
      "0.8870093822479248 sec for request\n"
     ]
    }
   ],
   "source": [
    "# api-endpoint\n",
    "URL = \"http://10.10.66.25:5001/recognize\"\n",
    "  \n",
    "# defining a params dict for the parameters to be sent to the API\n",
    "body = {\n",
    "    \"task_id\": str(uuid.uuid4()), \n",
    "    \"image_url\": \"https://github.com/ultralytics/yolov5/blob/master/data/images/zidane.jpg?raw=true\"\n",
    "}\n",
    "\n",
    "start = time()\n",
    "# sending get request and saving the response as response object\n",
    "r = requests.post(url=URL, json=body)\n",
    "finish = time()\n",
    "\n",
    "print(f\"{finish-start} sec for request\")\n",
    "# extracting data in json format\n",
    "data = r.json()"
   ]
  },
  {
   "cell_type": "code",
   "execution_count": 24,
   "id": "40135099",
   "metadata": {},
   "outputs": [
    {
     "data": {
      "text/plain": [
       "[{'task_id': 'ccc79800-f027-4fd0-968e-bbef3947088b',\n",
       "  'recognitions': {'x_min': 742,\n",
       "   'height': 671,\n",
       "   'predicted_class': 'Human',\n",
       "   'width': 398,\n",
       "   'class_probability': 0.99,\n",
       "   'contour_probability': 0.8811126351356506,\n",
       "   'y_min': 48}},\n",
       " {'task_id': 'ccc79800-f027-4fd0-968e-bbef3947088b',\n",
       "  'recognitions': {'x_min': 123,\n",
       "   'height': 526,\n",
       "   'predicted_class': 'Human',\n",
       "   'width': 592,\n",
       "   'class_probability': 0.99,\n",
       "   'contour_probability': 0.6659209132194519,\n",
       "   'y_min': 193}}]"
      ]
     },
     "execution_count": 24,
     "metadata": {},
     "output_type": "execute_result"
    }
   ],
   "source": [
    "data"
   ]
  },
  {
   "cell_type": "code",
   "execution_count": null,
   "id": "6de108d3",
   "metadata": {},
   "outputs": [],
   "source": []
  }
 ],
 "metadata": {
  "kernelspec": {
   "display_name": "Python 3 (ipykernel)",
   "language": "python",
   "name": "python3"
  },
  "language_info": {
   "codemirror_mode": {
    "name": "ipython",
    "version": 3
   },
   "file_extension": ".py",
   "mimetype": "text/x-python",
   "name": "python",
   "nbconvert_exporter": "python",
   "pygments_lexer": "ipython3",
   "version": "3.10.8"
  }
 },
 "nbformat": 4,
 "nbformat_minor": 5
}
